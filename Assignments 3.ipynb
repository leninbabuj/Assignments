{
 "cells": [
  {
   "cell_type": "markdown",
   "metadata": {},
   "source": [
    "1.1. Write a function to compute 5/0 and use try/except to catch the exceptions."
   ]
  },
  {
   "cell_type": "code",
   "execution_count": 1,
   "metadata": {},
   "outputs": [
    {
     "name": "stdout",
     "output_type": "stream",
     "text": [
      "division by zero\n"
     ]
    }
   ],
   "source": [
    "def compute():\n",
    "    try:\n",
    "        x = 5/0\n",
    "    except ZeroDivisionError as Z:\n",
    "        print(Z)\n",
    "\n",
    "compute()"
   ]
  },
  {
   "cell_type": "markdown",
   "metadata": {},
   "source": [
    "1.2. Implement a Python program to generate all sentences where subject is in [\"Americans\", \"Indians\"] and verb is in [\"Play\", \"watch\"] and the object is in [\"Baseball\",\"cricket\"]. \n",
    " \n",
    "Hint: Subject,Verb and Object should be declared in the program as shown below. \n",
    " \n",
    "subjects=[\"Americans \",\"Indians\"] verbs=[\"play\",\"watch\"] objects=[\"Baseball\",\"Cricket\"] \n",
    " \n",
    "Output should come as below: \n",
    " \n",
    "        Americans  play Baseball. \n",
    "        Americans  play Cricket. \n",
    "        Americans  watch Baseball. \n",
    "        Americans  watch Cricket. \n",
    "        Indians play Baseball. \n",
    "        Indians play Cricket. \n",
    "        Indians watch Baseball. \n",
    "        Indians watch Cricket. "
   ]
  },
  {
   "cell_type": "code",
   "execution_count": 3,
   "metadata": {},
   "outputs": [
    {
     "name": "stdout",
     "output_type": "stream",
     "text": [
      "Americans play Baseball\n",
      "Americans play Cricket\n",
      "Americans watch Baseball\n",
      "Americans watch Cricket\n",
      "Indians play Baseball\n",
      "Indians play Cricket\n",
      "Indians watch Baseball\n",
      "Indians watch Cricket\n"
     ]
    }
   ],
   "source": [
    "subject = [\"Americans\",\"Indians\"]\n",
    "verb = [\"play\",\"watch\"]\n",
    "obj = [\"Baseball\",\"Cricket\"]\n",
    "\n",
    "for s in range(len(subject)):\n",
    "    for v in range(len(verb)):\n",
    "        for o in range(len(obj)):\n",
    "            print(subject[s]+' '+verb[v]+' '+obj[o])"
   ]
  },
  {
   "cell_type": "markdown",
   "metadata": {},
   "source": [
    "2.1. Write a function so that the columns of the output matrix are powers of the input vector. The order of the powers is determined by the increasing boolean argument. Specifically, when increasing is False, the i-th output column is the input vector raised element-wise to the power of N - i - 1.  \n",
    " \n",
    "HINT: Such a matrix with a geometric progression in each row is named for Alexandre-Theophile Vandermonde."
   ]
  },
  {
   "cell_type": "code",
   "execution_count": null,
   "metadata": {},
   "outputs": [],
   "source": [
    "n = int(input(\"Enter number of rows: \"))\n",
    "m = int(input(\"Enter number of columns: \"))\n",
    "x = 1\n",
    "list_of_lists = []\n",
    "for row in range(n):\n",
    "    inner_list = []\n",
    "    for col in range(m):\n",
    "        inner_list.append(x)\n",
    "        x=x+x\n",
    "    list_of_lists.append(inner_list)\n",
    "\n",
    "for internalList in list_of_lists:\n",
    "    print(str(internalList))"
   ]
  },
  {
   "cell_type": "code",
   "execution_count": null,
   "metadata": {},
   "outputs": [],
   "source": []
  }
 ],
 "metadata": {
  "kernelspec": {
   "display_name": "Python 3",
   "language": "python",
   "name": "python3"
  },
  "language_info": {
   "codemirror_mode": {
    "name": "ipython",
    "version": 3
   },
   "file_extension": ".py",
   "mimetype": "text/x-python",
   "name": "python",
   "nbconvert_exporter": "python",
   "pygments_lexer": "ipython3",
   "version": "3.7.3"
  }
 },
 "nbformat": 4,
 "nbformat_minor": 2
}
