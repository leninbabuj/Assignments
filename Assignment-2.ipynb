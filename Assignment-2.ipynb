{
 "cells": [
  {
   "cell_type": "markdown",
   "metadata": {},
   "source": [
    "## Task 1"
   ]
  },
  {
   "cell_type": "markdown",
   "metadata": {},
   "source": [
    "#### 1.1. Write a Python Program to implement your own myreduce() function which works exactly like Python's built-in function reduce()"
   ]
  },
  {
   "cell_type": "code",
   "execution_count": 127,
   "metadata": {},
   "outputs": [
    {
     "name": "stdout",
     "output_type": "stream",
     "text": [
      "Help on built-in function reduce in module _functools:\n",
      "\n",
      "reduce(...)\n",
      "    reduce(function, sequence[, initial]) -> value\n",
      "    \n",
      "    Apply a function of two arguments cumulatively to the items of a sequence,\n",
      "    from left to right, so as to reduce the sequence to a single value.\n",
      "    For example, reduce(lambda x, y: x+y, [1, 2, 3, 4, 5]) calculates\n",
      "    ((((1+2)+3)+4)+5).  If initial is present, it is placed before the items\n",
      "    of the sequence in the calculation, and serves as a default when the\n",
      "    sequence is empty.\n",
      "\n"
     ]
    }
   ],
   "source": [
    "from functools import reduce\n",
    "help(reduce)"
   ]
  },
  {
   "cell_type": "code",
   "execution_count": 128,
   "metadata": {},
   "outputs": [
    {
     "name": "stdout",
     "output_type": "stream",
     "text": [
      "Enter MyNumber : 9901172763\n",
      "Enter begin index : 0\n",
      "Sum of MyNumber =  54\n"
     ]
    }
   ],
   "source": [
    "## Own function myreduce() similar to reduce() including sequence(from where number should start adding)\n",
    "\n",
    "MyNumber = [int(i) for i in str(input(\"Enter MyNumber : \"))]\n",
    "def myreduce(function, sequence):\n",
    "    begin = sequence[int(input(\"Enter begin index : \"))]\n",
    "    for i in sequence:\n",
    "        begin = function(begin, i)\n",
    "    return begin\n",
    "def addition(x,y): return x+y\n",
    "print('Sum of MyNumber = ', +myreduce(addition, MyNumber))"
   ]
  },
  {
   "cell_type": "markdown",
   "metadata": {},
   "source": [
    "#### 1.2. Write a Python program to implement your own myfilter() function which works exactly like Python's built-in function filter()"
   ]
  },
  {
   "cell_type": "code",
   "execution_count": 129,
   "metadata": {},
   "outputs": [
    {
     "name": "stdout",
     "output_type": "stream",
     "text": [
      "Help on class filter in module builtins:\n",
      "\n",
      "class filter(object)\n",
      " |  filter(function or None, iterable) --> filter object\n",
      " |  \n",
      " |  Return an iterator yielding those items of iterable for which function(item)\n",
      " |  is true. If function is None, return the items that are true.\n",
      " |  \n",
      " |  Methods defined here:\n",
      " |  \n",
      " |  __getattribute__(self, name, /)\n",
      " |      Return getattr(self, name).\n",
      " |  \n",
      " |  __iter__(self, /)\n",
      " |      Implement iter(self).\n",
      " |  \n",
      " |  __next__(self, /)\n",
      " |      Implement next(self).\n",
      " |  \n",
      " |  __reduce__(...)\n",
      " |      Return state information for pickling.\n",
      " |  \n",
      " |  ----------------------------------------------------------------------\n",
      " |  Static methods defined here:\n",
      " |  \n",
      " |  __new__(*args, **kwargs) from builtins.type\n",
      " |      Create and return a new object.  See help(type) for accurate signature.\n",
      "\n"
     ]
    }
   ],
   "source": [
    "help(filter)"
   ]
  },
  {
   "cell_type": "code",
   "execution_count": 130,
   "metadata": {},
   "outputs": [
    {
     "name": "stdout",
     "output_type": "stream",
     "text": [
      "Enter MyNumber : 9901172763\n",
      "[0, 2, 6]\n"
     ]
    }
   ],
   "source": [
    "###### Own myfilter() function\n",
    "\n",
    "MyNumber = [int(i) for i in str(input(\"Enter MyNumber : \"))]\n",
    "def myfilter(function,sequence):\n",
    "    result = []\n",
    "    for i in sequence:\n",
    "        if function(i):\n",
    "            result.append(i)\n",
    "    return result\n",
    "\n",
    "def function(n):\n",
    "    if (n%2==0):\n",
    "        return True\n",
    "    \n",
    "print(myfilter(function, MyNumber))"
   ]
  },
  {
   "cell_type": "markdown",
   "metadata": {},
   "source": [
    "#### 2. Implement List comprehensions to produce the following lists. Write List comprehensions to produce the following Lists\n",
    "\n",
    "     > ['A', 'C', 'A', 'D', 'G', 'I', ’L’, ‘ D’]\n",
    "     > ['x', 'xx', 'xxx', 'xxxx', 'y', 'yy', 'yyy', 'yyyy', 'z', 'zz', 'zzz', 'zzzz']\n",
    "     > [[2], [3], [4], [3], [4], [5], [4], [5], [6]]\n",
    "     > [[2, 3, 4, 5], [3, 4, 5, 6], [4, 5, 6, 7], [5, 6, 7, 8]]\n",
    "     > [(1, 1), (2, 1), (3, 1), (1, 2), (2, 2), (3, 2), (1, 3), (2, 3), (3, 3)]"
   ]
  },
  {
   "cell_type": "code",
   "execution_count": 131,
   "metadata": {},
   "outputs": [
    {
     "name": "stdout",
     "output_type": "stream",
     "text": [
      "['A', 'C', 'A', 'D', 'G', 'I', 'L', 'D']\n"
     ]
    }
   ],
   "source": [
    "List1Word = 'ACADGILD'\n",
    "print(list(List1Word))"
   ]
  },
  {
   "cell_type": "code",
   "execution_count": 132,
   "metadata": {},
   "outputs": [
    {
     "name": "stdout",
     "output_type": "stream",
     "text": [
      "Enter input : xyz\n",
      "Output :  ['x', 'xx', 'xxx', 'xxxx', 'y', 'yy', 'yyy', 'yyyy', 'z', 'zz', 'zzz', 'zzzz']\n"
     ]
    }
   ],
   "source": [
    "list1 = input(\"Enter input : \")\n",
    "result = []\n",
    "for i in list1:\n",
    "    for n in range(1,5):\n",
    "        result.append(i*n)\n",
    "print(\"Output : \",str(result))"
   ]
  },
  {
   "cell_type": "code",
   "execution_count": 133,
   "metadata": {},
   "outputs": [
    {
     "name": "stdout",
     "output_type": "stream",
     "text": [
      "Output :  [[2], [3], [4], [3], [4], [5], [4], [5], [6]]\n"
     ]
    }
   ],
   "source": [
    "input_list = 1,2,3\n",
    "result = []\n",
    "for i in range(1,4):\n",
    "    for n in input_list:\n",
    "        result.append([i+n])\n",
    "print(\"Output : \",str(result))"
   ]
  },
  {
   "cell_type": "code",
   "execution_count": 134,
   "metadata": {},
   "outputs": [
    {
     "name": "stdout",
     "output_type": "stream",
     "text": [
      "Output :  [[2, 3, 4, 5], [3, 4, 5, 6], [4, 5, 6, 7], [5, 6, 7, 8]]\n"
     ]
    }
   ],
   "source": [
    "input_list = 1,2,3,4\n",
    "result = [[i+n for i in input_list] for n in range(1,5)]\n",
    "print(\"Output : \",result)"
   ]
  },
  {
   "cell_type": "code",
   "execution_count": 135,
   "metadata": {},
   "outputs": [
    {
     "name": "stdout",
     "output_type": "stream",
     "text": [
      "Output :  [(1, 1), (2, 1), (3, 1), (1, 2), (2, 2), (3, 2), (1, 3), (2, 3), (3, 3)]\n"
     ]
    }
   ],
   "source": [
    "input_list = 1,2,3\n",
    "result = [(n,i) for i in input_list for n in range(1,4)]\n",
    "print(\"Output : \",result)"
   ]
  },
  {
   "cell_type": "markdown",
   "metadata": {},
   "source": [
    "##### 3. Implement a function longestWord() that takes a list of words and returns the longest one. "
   ]
  },
  {
   "cell_type": "code",
   "execution_count": 137,
   "metadata": {},
   "outputs": [
    {
     "name": "stdout",
     "output_type": "stream",
     "text": [
      "Please enter input with space : LENIN BABU JAMMULA\n",
      "Output :  JAMMULA\n"
     ]
    }
   ],
   "source": [
    "def longWord(x):\n",
    "    list1 = x.split()\n",
    "    n = []\n",
    "    for i in list1:\n",
    "        n.append(len(i))\n",
    "    print(\"Output : \",list1[n.index(max(n))])\n",
    "\n",
    "x = input(\"Please enter input with space : \")\n",
    "longWord(x)"
   ]
  },
  {
   "cell_type": "markdown",
   "metadata": {},
   "source": [
    "## Task 2"
   ]
  },
  {
   "cell_type": "markdown",
   "metadata": {},
   "source": [
    "#### 1.1  Write a Python Program(with class concepts) to find the area of the triangle using the below formula. \n",
    "    area = (s*(s-a)*(s-b)*(s-c)) ** 0.5 \n",
    "#### Function to take the length of the sides of triangle from user should be defined in the parent class and function to calculate the area should be defined in subclass. "
   ]
  },
  {
   "cell_type": "code",
   "execution_count": 138,
   "metadata": {},
   "outputs": [
    {
     "name": "stdout",
     "output_type": "stream",
     "text": [
      "Enter the value of x = 10\n",
      "Enter the value of y = 10\n",
      "Enter the value of z = 10\n",
      "area = 43.30127018922193\n"
     ]
    }
   ],
   "source": [
    "class Triangle:\n",
    "    \n",
    "    def __init__(self,x,y,z):\n",
    "        self.x = float(x)\n",
    "        self.y = float(y)\n",
    "        self.z = float(z)\n",
    "   \n",
    "    def area(self):\n",
    "        s = (self.x + self.y + self.z)/2\n",
    "        return ((s*(s-self.x)*(s-self.y)*(s-self.z))**0.5)\n",
    "\n",
    "x=input(\"Enter the value of x = \")\n",
    "y=input(\"Enter the value of y = \")\n",
    "z=input(\"Enter the value of z = \")\n",
    "t = Triangle(x, y, z)\n",
    "print(\"area = {}\".format(t.area()))"
   ]
  },
  {
   "cell_type": "markdown",
   "metadata": {},
   "source": [
    "#### 1.2. Write a function filter_long_words() that takes a list of words and an integer n and returns the list of words that are longer than n. "
   ]
  },
  {
   "cell_type": "code",
   "execution_count": 139,
   "metadata": {},
   "outputs": [
    {
     "name": "stdout",
     "output_type": "stream",
     "text": [
      "Please enter input with space : AB ABC ABCD ABCDE ABCDEF\n",
      "Please enter n :3\n"
     ]
    },
    {
     "data": {
      "text/plain": [
       "['ABCD', 'ABCDE', 'ABCDEF']"
      ]
     },
     "execution_count": 139,
     "metadata": {},
     "output_type": "execute_result"
    }
   ],
   "source": [
    "def filter_long_words(x,n):\n",
    "    inplist = x.split()\n",
    "    listOfWords = []\n",
    "\n",
    "    for i in range(len(inplist)):\n",
    "        if len(inplist[i]) > n:\n",
    "            listOfWords.append(inplist[i])\n",
    "    return listOfWords\n",
    "    \n",
    "x = input(\"Please enter input with space : \")\n",
    "n = int(input(\"Please enter n :\"))\n",
    "\n",
    "filter_long_words(x,n)"
   ]
  },
  {
   "cell_type": "markdown",
   "metadata": {},
   "source": [
    "#### 2.1. Write a Python program using function concept that maps  list of words into a list of integers representing the lengths of the corresponding words​. \n",
    "    Hint: ​If a list [ ab,cde,erty] is passed on to the python function output should come as [2,3,4] \n",
    "    Here 2,3 and 4 are the lengths of the words in the list. "
   ]
  },
  {
   "cell_type": "code",
   "execution_count": 140,
   "metadata": {},
   "outputs": [
    {
     "name": "stdout",
     "output_type": "stream",
     "text": [
      "Please enter input with space : AB ABC ABCD ABCDE ABCDEF\n",
      "[2, 3, 4, 5, 6]\n"
     ]
    }
   ],
   "source": [
    "def longWord(x):\n",
    "    list1 = x.split()\n",
    "    n = []\n",
    "    for i in list1:\n",
    "        n.append(len(i))\n",
    "    print(n)\n",
    "\n",
    "x = input(\"Please enter input with space : \")\n",
    "longWord(x)"
   ]
  },
  {
   "cell_type": "markdown",
   "metadata": {},
   "source": [
    "#### 2.2. Write a Python function which takes a character (i.e. a string of length 1) and returns True if it is a vowel, False otherwise. "
   ]
  },
  {
   "cell_type": "code",
   "execution_count": 141,
   "metadata": {},
   "outputs": [
    {
     "name": "stdout",
     "output_type": "stream",
     "text": [
      "Please enter input : a\n"
     ]
    },
    {
     "data": {
      "text/plain": [
       "True"
      ]
     },
     "execution_count": 141,
     "metadata": {},
     "output_type": "execute_result"
    }
   ],
   "source": [
    "def vowel(x):\n",
    "    char = str(x)\n",
    "    list1 = ('a','e','i','o','u')\n",
    "    if char in list1:\n",
    "        return True\n",
    "    return False\n",
    "    \n",
    "x = input(\"Please enter input : \")\n",
    "vowel(x)"
   ]
  }
 ],
 "metadata": {
  "kernelspec": {
   "display_name": "Python 3",
   "language": "python",
   "name": "python3"
  },
  "language_info": {
   "codemirror_mode": {
    "name": "ipython",
    "version": 3
   },
   "file_extension": ".py",
   "mimetype": "text/x-python",
   "name": "python",
   "nbconvert_exporter": "python",
   "pygments_lexer": "ipython3",
   "version": "3.7.3"
  }
 },
 "nbformat": 4,
 "nbformat_minor": 2
}
